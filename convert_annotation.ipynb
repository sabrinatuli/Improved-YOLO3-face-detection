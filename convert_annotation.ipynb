{
 "cells": [
  {
   "cell_type": "code",
   "execution_count": 1,
   "metadata": {},
   "outputs": [],
   "source": [
    "train_dir = './WIDER_train/images/'\n",
    "val_dir = './WIDER_val/images/'\n",
    "annotation_txt_location = './wider_face_split/'\n",
    "annotation_file_txt = 'wider_face_train_bbx_gt.txt'\n",
    "val_annotation_file_txt = 'wider_face_val_bbx_gt.txt'\n",
    "wider_yolo_annotation = 'wider_train_annotation.txt'\n",
    "wider_val_annotation = 'wider_val_annotation.txt'"
   ]
  },
  {
   "cell_type": "markdown",
   "metadata": {},
   "source": [
    "## YOLO ANNOTATION"
   ]
  },
  {
   "cell_type": "markdown",
   "metadata": {},
   "source": [
    "Generate your own annotation file and class names file.  \n",
    "One row for one image;  \n",
    "Row format: `image_file_path box1 box2 ... boxN`;  \n",
    "Box format: `x_min,y_min,x_max,y_max,class_id` (no space).  \n",
    "For VOC dataset, try `python voc_annotation.py`  \n",
    "Here is an example:\n",
    "```\n",
    "path/to/img1.jpg 50,100,150,200,0 30,50,200,120,3\n",
    "path/to/img2.jpg 120,300,250,600,2\n",
    "...\n",
    "```"
   ]
  },
  {
   "cell_type": "markdown",
   "metadata": {},
   "source": [
    "## WIDER ANNOTATION"
   ]
  },
  {
   "cell_type": "markdown",
   "metadata": {},
   "source": [
    "Attached the mappings between attribute names and label values.\n",
    "\n",
    "blur:\n",
    "  clear->0\n",
    "  normal blur->1\n",
    "  heavy blur->2\n",
    "\n",
    "expression:\n",
    "  typical expression->0\n",
    "  exaggerate expression->1\n",
    "\n",
    "illumination:\n",
    "  normal illumination->0\n",
    "  extreme illumination->1\n",
    "\n",
    "occlusion:\n",
    "  no occlusion->0\n",
    "  partial occlusion->1\n",
    "  heavy occlusion->2\n",
    "\n",
    "pose:\n",
    "  typical pose->0\n",
    "  atypical pose->1\n",
    "\n",
    "invalid:\n",
    "  false->0(valid image)\n",
    "  true->1(invalid image)\n",
    "\n",
    "The format of txt ground truth.\n",
    "File name\n",
    "Number of bounding box\n",
    "x1(left), y1(top), w, h, blur, expression, illumination, invalid, occlusion, pose"
   ]
  },
  {
   "cell_type": "code",
   "execution_count": 4,
   "metadata": {},
   "outputs": [
    {
     "name": "stdout",
     "output_type": "stream",
     "text": [
      "867 164 0 1 1 0 0 0 0 0 \n",
      "713 34 1 0 1 0 0 0 0 0 \n",
      "299 116 3 0 2 0 0 0 0 0 \n",
      "done\n"
     ]
    }
   ],
   "source": [
    "annotation = annotation_txt_location + annotation_file_txt\n",
    "\n",
    "yolo_ann = open(wider_yolo_annotation, 'w')\n",
    "\n",
    "string_buffer = ''\n",
    "read_flag = False\n",
    "\n",
    "with open(annotation) as f:\n",
    "    for line in f:\n",
    "        line = line.splitlines()[0]\n",
    "        if('.jpg' in line):\n",
    "            if(read_flag):\n",
    "                yolo_ann.write(string_buffer)\n",
    "\n",
    "            string_buffer = ''\n",
    "            string_buffer = '\\n' + train_dir + line\n",
    "            read_flag = False\n",
    "            #print(line)\n",
    "        else:\n",
    "            if(len(line) < 2):\n",
    "                if(line == '0'):\n",
    "                    string_buffer = ''\n",
    "                    read_flag = False\n",
    "                else:\n",
    "                    read_flag = True\n",
    "            else:\n",
    "                if(read_flag):\n",
    "                    # get the WIDER annotation formats\n",
    "                    get_line_elements = line.split(' ')\n",
    "                    x = int(get_line_elements[0])\n",
    "                    y = int(get_line_elements[1])\n",
    "                    width = int(get_line_elements[2])\n",
    "                    height = int(get_line_elements[3])\n",
    "                    invalid = get_line_elements[7]\n",
    "\n",
    "                    # convert to yolo friendly\n",
    "                    x_min = str(x)\n",
    "                    x_max = str(x + width)\n",
    "                    y_min = str(y)\n",
    "                    y_max = str(y + height)\n",
    "\n",
    "                    new_annot = ' ' + x_min + ',' + y_min + ',' + x_max + ',' + y_max + ',' + '0'\n",
    "\n",
    "                    if(int(x_min) >= int(x_max) or int(y_min) >= int(y_max)):\n",
    "                        #ignore\n",
    "                        print(line)\n",
    "                    else:\n",
    "                        string_buffer = string_buffer + new_annot\n",
    "                else:\n",
    "                    string_buffer = ''\n",
    "                    \n",
    "\n",
    "f.close()\n",
    "yolo_ann.close()\n",
    "print(\"done\")"
   ]
  },
  {
   "cell_type": "code",
   "execution_count": 3,
   "metadata": {},
   "outputs": [
    {
     "name": "stdout",
     "output_type": "stream",
     "text": [
      "0 0 0 0 0 0 0 0 0 0 \n",
      "0 0 0 0 0 0 0 0 0 0 \n",
      "0 0 0 0 0 0 0 0 0 0 \n",
      "0 0 0 0 0 0 0 0 0 0 \n",
      "done\n"
     ]
    }
   ],
   "source": [
    "annotation_val = annotation_txt_location + val_annotation_file_txt\n",
    "\n",
    "yolo_ann = open(wider_val_annotation, 'w')\n",
    "\n",
    "string_buffer = ''\n",
    "read_flag = False\n",
    "\n",
    "with open(annotation_val) as f:\n",
    "    for line in f:\n",
    "        line = line.splitlines()[0]\n",
    "        if('.jpg' in line):\n",
    "            if(read_flag):\n",
    "                yolo_ann.write(string_buffer)\n",
    "\n",
    "            string_buffer = ''\n",
    "            string_buffer = '\\n' + val_dir + line\n",
    "            read_flag = False\n",
    "        else:\n",
    "            if(len(line) < 2):\n",
    "                if(line == '0'):\n",
    "                    string_buffer = ''\n",
    "                    read_flag = False\n",
    "                else:\n",
    "                    read_flag = True\n",
    "            else:\n",
    "                if(read_flag):\n",
    "                    # get the WIDER annotation formats\n",
    "                    get_line_elements = line.split(' ')\n",
    "                    x = int(get_line_elements[0])\n",
    "                    y = int(get_line_elements[1])\n",
    "                    width = int(get_line_elements[2])\n",
    "                    height = int(get_line_elements[3])\n",
    "                    invalid = get_line_elements[7]\n",
    "\n",
    "                    # convert to yolo friendly\n",
    "                    x_min = str(x)\n",
    "                    x_max = str(x + width)\n",
    "                    y_min = str(y)\n",
    "                    y_max = str(y + height)\n",
    "\n",
    "                    new_annot = ' ' + x_min + ',' + y_min + ',' + x_max + ',' + y_max + ',' + '0'\n",
    "\n",
    "                    if(int(x_min) >= int(x_max) or int(y_min) >= int(y_max)):\n",
    "                        #ignore\n",
    "                        print(line)\n",
    "                    else:\n",
    "                        string_buffer = string_buffer + new_annot\n",
    "                else:\n",
    "                    string_buffer = ''\n",
    "\n",
    "f.close()\n",
    "yolo_ann.close()\n",
    "print(\"done\")"
   ]
  },
  {
   "cell_type": "code",
   "execution_count": null,
   "metadata": {},
   "outputs": [],
   "source": []
  }
 ],
 "metadata": {
  "kernelspec": {
   "display_name": "Python 3",
   "language": "python",
   "name": "python3"
  },
  "language_info": {
   "codemirror_mode": {
    "name": "ipython",
    "version": 3
   },
   "file_extension": ".py",
   "mimetype": "text/x-python",
   "name": "python",
   "nbconvert_exporter": "python",
   "pygments_lexer": "ipython3",
   "version": "3.6.8"
  }
 },
 "nbformat": 4,
 "nbformat_minor": 2
}
